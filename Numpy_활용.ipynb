{
  "nbformat": 4,
  "nbformat_minor": 0,
  "metadata": {
    "colab": {
      "name": "Numpy 활용.ipynb",
      "provenance": [],
      "collapsed_sections": [],
      "include_colab_link": true
    },
    "kernelspec": {
      "name": "python3",
      "display_name": "Python 3"
    }
  },
  "cells": [
    {
      "cell_type": "markdown",
      "metadata": {
        "id": "view-in-github",
        "colab_type": "text"
      },
      "source": [
        "<a href=\"https://colab.research.google.com/github/yih789/Data-Analysis-and-Image-Processing/blob/master/Numpy_%ED%99%9C%EC%9A%A9.ipynb\" target=\"_parent\"><img src=\"https://colab.research.google.com/assets/colab-badge.svg\" alt=\"Open In Colab\"/></a>"
      ]
    },
    {
      "cell_type": "markdown",
      "metadata": {
        "id": "LfHE6kfUGZGO",
        "colab_type": "text"
      },
      "source": [
        "* Numpy는 **저장 및 불러오기**가 가능하다."
      ]
    },
    {
      "cell_type": "code",
      "metadata": {
        "id": "juzhajX7t-XL",
        "colab_type": "code",
        "outputId": "cc259932-e0b3-4307-9bb4-789f377d193e",
        "colab": {
          "base_uri": "https://localhost:8080/",
          "height": 36
        }
      },
      "source": [
        "import numpy as np\n",
        "\n",
        "# 단일 객체 저장 및 불러오기\n",
        "array = np.arange(0, 10)\n",
        "np.save('saved.npy', array)\n",
        "\n",
        "result = np.load('saved.npy')\n",
        "print(result)"
      ],
      "execution_count": 0,
      "outputs": [
        {
          "output_type": "stream",
          "text": [
            "[0 1 2 3 4 5 6 7 8 9]\n"
          ],
          "name": "stdout"
        }
      ]
    },
    {
      "cell_type": "markdown",
      "metadata": {
        "id": "4BTcro-yHLoQ",
        "colab_type": "text"
      },
      "source": [
        "* 여러 개의 Numpy 객체를 하나의 파일에 저장하고 불러오기"
      ]
    },
    {
      "cell_type": "code",
      "metadata": {
        "id": "JnUi1Hinvk4S",
        "colab_type": "code",
        "outputId": "54421a8f-cc19-413c-a904-f3378dcb343b",
        "colab": {
          "base_uri": "https://localhost:8080/",
          "height": 55
        }
      },
      "source": [
        "import numpy as np\n",
        "\n",
        "# 복수 객체 저장 및 불러오기\n",
        "array1 = np.arange(0, 10)\n",
        "array2 = np.arange(10, 20)\n",
        "np.savez('saved.npz', array1=array1, array2=array2)\n",
        "\n",
        "data = np.load('saved.npz')\n",
        "result1 = data['array1']\n",
        "result2 = data['array2']\n",
        "print(result1)\n",
        "print(result2)"
      ],
      "execution_count": 0,
      "outputs": [
        {
          "output_type": "stream",
          "text": [
            "[0 1 2 3 4 5 6 7 8 9]\n",
            "[10 11 12 13 14 15 16 17 18 19]\n"
          ],
          "name": "stdout"
        }
      ]
    },
    {
      "cell_type": "markdown",
      "metadata": {
        "id": "hucvD2I2HTF2",
        "colab_type": "text"
      },
      "source": [
        "* Numpy의 원소들은 특정 기준에 따라서 **정렬**할 수 있다."
      ]
    },
    {
      "cell_type": "code",
      "metadata": {
        "id": "JdhpH1eiHW99",
        "colab_type": "code",
        "outputId": "aa18d302-b6ed-40c3-cc2a-6888b7518d30",
        "colab": {
          "base_uri": "https://localhost:8080/",
          "height": 92
        }
      },
      "source": [
        "import numpy as np\n",
        "\n",
        "# 오름차순\n",
        "array = np.array([5, 9, 10, 3, 1])\n",
        "array.sort()\n",
        "print(array)\n",
        "\n",
        "# 내림차순\n",
        "array = np.array([5, 9, 10, 3, 1])\n",
        "array.sort()\n",
        "print(array[::-1])\n",
        "\n",
        "# 각 열을 기준으로 정렬\n",
        "array = np.array([[5, 9, 10, 3, 1], [8, 3, 4, 2, 5]])\n",
        "array.sort(axis=0)\n",
        "print(array)"
      ],
      "execution_count": 0,
      "outputs": [
        {
          "output_type": "stream",
          "text": [
            "[ 1  3  5  9 10]\n",
            "[10  9  5  3  1]\n",
            "[[ 5  3  4  2  1]\n",
            " [ 8  9 10  3  5]]\n"
          ],
          "name": "stdout"
        }
      ]
    },
    {
      "cell_type": "markdown",
      "metadata": {
        "id": "u9RiZ19OJRI5",
        "colab_type": "text"
      },
      "source": [
        "* Numpy 관련 **자주 사용하는 함수들**"
      ]
    },
    {
      "cell_type": "code",
      "metadata": {
        "id": "xD9C8c97HpPD",
        "colab_type": "code",
        "outputId": "caf35fa2-dae1-47f7-cfbe-ef7b81b868d1",
        "colab": {
          "base_uri": "https://localhost:8080/",
          "height": 167
        }
      },
      "source": [
        "import numpy as np\n",
        "\n",
        "# 균일한 간격으로 데이터 생성\n",
        "array = np.linspace(0, 10, 5)\n",
        "print (array)\n",
        "print('##########################')\n",
        "\n",
        "# 난수의 재연(실행마다 결과 동일)\n",
        "# 동일한 데이터가 필요할 때 사용\n",
        "np.random.seed(7)\n",
        "print(np.random.randint(0, 10, (2, 3)))\n",
        "print('##########################')\n",
        "\n",
        "# Numpy 배열 객체 복사\n",
        "array1 = np.arange(0, 10)\n",
        "array2 = array1.copy()\n",
        "print(array2)\n",
        "print('##########################')\n",
        "\n",
        "# 중복된 원소 제거\n",
        "array = np.array([1, 1, 2, 3, 3, 3, 1])\n",
        "print(np.unique(array))"
      ],
      "execution_count": 0,
      "outputs": [
        {
          "output_type": "stream",
          "text": [
            "[ 0.   2.5  5.   7.5 10. ]\n",
            "##########################\n",
            "[[4 9 6]\n",
            " [3 3 7]]\n",
            "##########################\n",
            "[0 1 2 3 4 5 6 7 8 9]\n",
            "##########################\n",
            "[1 2 3]\n"
          ],
          "name": "stdout"
        }
      ]
    },
    {
      "cell_type": "code",
      "metadata": {
        "id": "0nlHpjHNJyVe",
        "colab_type": "code",
        "colab": {}
      },
      "source": [
        ""
      ],
      "execution_count": 0,
      "outputs": []
    }
  ]
}