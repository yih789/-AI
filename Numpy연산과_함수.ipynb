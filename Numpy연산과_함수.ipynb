{
  "nbformat": 4,
  "nbformat_minor": 0,
  "metadata": {
    "colab": {
      "name": "Numpy연산과 함수.ipynb",
      "provenance": [],
      "collapsed_sections": [],
      "include_colab_link": true
    },
    "kernelspec": {
      "name": "python3",
      "display_name": "Python 3"
    }
  },
  "cells": [
    {
      "cell_type": "markdown",
      "metadata": {
        "id": "view-in-github",
        "colab_type": "text"
      },
      "source": [
        "<a href=\"https://colab.research.google.com/github/yih789/Data-Analysis-and-Image-Processing/blob/master/Numpy%EC%97%B0%EC%82%B0%EA%B3%BC_%ED%95%A8%EC%88%98.ipynb\" target=\"_parent\"><img src=\"https://colab.research.google.com/assets/colab-badge.svg\" alt=\"Open In Colab\"/></a>"
      ]
    },
    {
      "cell_type": "markdown",
      "metadata": {
        "id": "hmVZyHjAB8Gw",
        "colab_type": "text"
      },
      "source": [
        "* **Numpy** 라이브러리는 상수 연산이 가능하다."
      ]
    },
    {
      "cell_type": "code",
      "metadata": {
        "id": "nxbXNLeWCCQP",
        "colab_type": "code",
        "outputId": "5e81be6a-5ac0-4305-b925-f9c274d37968",
        "colab": {
          "base_uri": "https://localhost:8080/",
          "height": 111
        }
      },
      "source": [
        "import numpy as np\n",
        "\n",
        "array = np.random.randint(1, 10, size=4).reshape(2, 2)\n",
        "result_array = array * 10\n",
        "print(array, '\\n')\n",
        "print(result_array)"
      ],
      "execution_count": 0,
      "outputs": [
        {
          "output_type": "stream",
          "text": [
            "[[9 2]\n",
            " [7 3]] \n",
            "\n",
            "[[90 20]\n",
            " [70 30]]\n"
          ],
          "name": "stdout"
        }
      ]
    },
    {
      "cell_type": "markdown",
      "metadata": {
        "id": "oQlWH97eChFP",
        "colab_type": "text"
      },
      "source": [
        "* **서로 다른 형태**의 Numpy 연산"
      ]
    },
    {
      "cell_type": "code",
      "metadata": {
        "id": "Sl76yBg7C1Xo",
        "colab_type": "code",
        "outputId": "ba74cfe3-69d1-4ab7-f6b1-e688cd9c9b1d",
        "colab": {
          "base_uri": "https://localhost:8080/",
          "height": 167
        }
      },
      "source": [
        "import numpy as np\n",
        "\n",
        "# 2 x 2\n",
        "array1 = np.arange(4).reshape(2, 2)\n",
        "# 1 x 2\n",
        "array2 = np.arange(2)\n",
        "array3 = array1 + array2\n",
        "\n",
        "print(array1, '\\n')\n",
        "print(array2, '\\n' )\n",
        "print(array3, '\\n')"
      ],
      "execution_count": 0,
      "outputs": [
        {
          "output_type": "stream",
          "text": [
            "[[0 1]\n",
            " [2 3]] \n",
            "\n",
            "[0 1] \n",
            "\n",
            "[[0 2]\n",
            " [2 4]] \n",
            "\n"
          ],
          "name": "stdout"
        }
      ]
    },
    {
      "cell_type": "code",
      "metadata": {
        "id": "Sdvoonj7DzuG",
        "colab_type": "code",
        "outputId": "b271cc3a-c598-463b-90f3-bd6a1e501640",
        "colab": {
          "base_uri": "https://localhost:8080/",
          "height": 279
        }
      },
      "source": [
        "import numpy as np\n",
        "\n",
        "array1 = np.arange(0, 8).reshape(2, 4)\n",
        "array2 = np.arange(0, 8).reshape(2, 4)\n",
        "array3 = np.concatenate([array1, array2], axis = 0)\n",
        "array4 = np.arange(0, 4).reshape(4, 1)\n",
        "print(array3, '\\n')\n",
        "print(array4, '\\n')\n",
        "print(array3 + array4)"
      ],
      "execution_count": 0,
      "outputs": [
        {
          "output_type": "stream",
          "text": [
            "[[0 1 2 3]\n",
            " [4 5 6 7]\n",
            " [0 1 2 3]\n",
            " [4 5 6 7]] \n",
            "\n",
            "[[0]\n",
            " [1]\n",
            " [2]\n",
            " [3]] \n",
            "\n",
            "[[ 0  1  2  3]\n",
            " [ 5  6  7  8]\n",
            " [ 2  3  4  5]\n",
            " [ 7  8  9 10]]\n"
          ],
          "name": "stdout"
        }
      ]
    },
    {
      "cell_type": "markdown",
      "metadata": {
        "id": "BCGxTwaoErei",
        "colab_type": "text"
      },
      "source": [
        "* **마스킹 연산**이 가능하다."
      ]
    },
    {
      "cell_type": "code",
      "metadata": {
        "id": "eLilSxPEqenZ",
        "colab_type": "code",
        "outputId": "6c2409bf-2765-4554-95b9-c47446a66057",
        "colab": {
          "base_uri": "https://localhost:8080/",
          "height": 279
        }
      },
      "source": [
        "import numpy as np\n",
        "\n",
        "#마스킹 연산 : 각 원소에 대해 체크\n",
        "\n",
        "# Numpy 원소의 값을 조건에 따라 바꿀 때는 다음과 같이 합니다.\n",
        "# 반복문을 이용할 때보다 매우 빠르게 동작합니다.\n",
        "# 대체로 이미지 처리(Image Processing)에서 자주 활용됩니다.\n",
        "array1 = np.arange(16).reshape(4, 4)\n",
        "print(array1)\n",
        "\n",
        "print('#########################')\n",
        "array2 = array1 < 10\n",
        "print(array2)\n",
        "\n",
        "#마스킹 활용\n",
        "#10보다 작은 값들을 100으로 설정\n",
        "print('#########################')\n",
        "array1[array2] = 100\n",
        "print(array1)"
      ],
      "execution_count": 0,
      "outputs": [
        {
          "output_type": "stream",
          "text": [
            "[[ 0  1  2  3]\n",
            " [ 4  5  6  7]\n",
            " [ 8  9 10 11]\n",
            " [12 13 14 15]]\n",
            "#########################\n",
            "[[ True  True  True  True]\n",
            " [ True  True  True  True]\n",
            " [ True  True False False]\n",
            " [False False False False]]\n",
            "#########################\n",
            "[[100 100 100 100]\n",
            " [100 100 100 100]\n",
            " [100 100  10  11]\n",
            " [ 12  13  14  15]]\n"
          ],
          "name": "stdout"
        }
      ]
    },
    {
      "cell_type": "markdown",
      "metadata": {
        "id": "ixhhcK-4FVju",
        "colab_type": "text"
      },
      "source": [
        "* 다양한 **집계 함수**가 존재한다."
      ]
    },
    {
      "cell_type": "code",
      "metadata": {
        "id": "2KyDAZMasagr",
        "colab_type": "code",
        "outputId": "446f3733-e428-4b0f-ba41-80afdcc8f9ca",
        "colab": {
          "base_uri": "https://localhost:8080/",
          "height": 92
        }
      },
      "source": [
        "import numpy as np\n",
        "\n",
        "#집계 함수 : 각 원소의 총합 or 평균을 빠르게 구한다.\n",
        "array = np.arange(16).reshape(4, 4)\n",
        "\n",
        "print(\"최대값 : \", np.max(array))\n",
        "print(\"최소값 : \", np.min(array))\n",
        "print(\"합계 : \", np.sum(array))\n",
        "print(\"평균값 : \", np.mean(array))"
      ],
      "execution_count": 0,
      "outputs": [
        {
          "output_type": "stream",
          "text": [
            "최대값 :  15\n",
            "최소값 :  0\n",
            "합계 :  120\n",
            "평균값 :  7.5\n"
          ],
          "name": "stdout"
        }
      ]
    },
    {
      "cell_type": "code",
      "metadata": {
        "id": "Del7QMC2tEms",
        "colab_type": "code",
        "outputId": "0f1e1005-d571-41a0-8e8e-ef6c85c2d39e",
        "colab": {
          "base_uri": "https://localhost:8080/",
          "height": 111
        }
      },
      "source": [
        "import numpy as np\n",
        "\n",
        "#집계 함수 : 각 원소의 총합 or 평균을 빠르게 구한다.\n",
        "array = np.arange(16).reshape(4, 4)\n",
        "print(array)\n",
        "print(\"모든 열에 대한 합계 : \", np.sum(array, axis = 0))"
      ],
      "execution_count": 0,
      "outputs": [
        {
          "output_type": "stream",
          "text": [
            "[[ 0  1  2  3]\n",
            " [ 4  5  6  7]\n",
            " [ 8  9 10 11]\n",
            " [12 13 14 15]]\n",
            "모든 열에 대한 합계 :  [24 28 32 36]\n"
          ],
          "name": "stdout"
        }
      ]
    }
  ]
}