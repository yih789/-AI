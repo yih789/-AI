{
  "nbformat": 4,
  "nbformat_minor": 0,
  "metadata": {
    "colab": {
      "name": "Numpy의 기본 사용법",
      "provenance": [],
      "collapsed_sections": [],
      "include_colab_link": true
    },
    "kernelspec": {
      "name": "python3",
      "display_name": "Python 3"
    }
  },
  "cells": [
    {
      "cell_type": "markdown",
      "metadata": {
        "id": "view-in-github",
        "colab_type": "text"
      },
      "source": [
        "<a href=\"https://colab.research.google.com/github/yih789/Data-Analysis-and-Image-Processing/blob/master/Numpy%EC%9D%98_%EA%B8%B0%EB%B3%B8_%EC%82%AC%EC%9A%A9%EB%B2%95.ipynb\" target=\"_parent\"><img src=\"https://colab.research.google.com/assets/colab-badge.svg\" alt=\"Open In Colab\"/></a>"
      ]
    },
    {
      "cell_type": "markdown",
      "metadata": {
        "id": "JkHk__Gs6Drq",
        "colab_type": "text"
      },
      "source": [
        " * Python의 **Numpy** 라이브러리는 **List**와 상호 변환이 가능하다."
      ]
    },
    {
      "cell_type": "code",
      "metadata": {
        "id": "WWbfNat_5nhh",
        "colab_type": "code",
        "outputId": "37dde31e-9651-4ada-f948-289f4b364960",
        "colab": {
          "base_uri": "https://localhost:8080/",
          "height": 73
        }
      },
      "source": [
        "import numpy as np\n",
        "\n",
        "array = np.array([1, 2, 3])\n",
        "print(array.size) # 배열의 크기\n",
        "print(array.dtype) # 배열 원소의 타입\n",
        "print(array[2])"
      ],
      "execution_count": 0,
      "outputs": [
        {
          "output_type": "stream",
          "text": [
            "3\n",
            "int64\n",
            "3\n"
          ],
          "name": "stdout"
        }
      ]
    },
    {
      "cell_type": "markdown",
      "metadata": {
        "id": "Ty_0p9OH7R5p",
        "colab_type": "text"
      },
      "source": [
        "* Python의 **Numpy** 라이브러리는 다양한 형태의 배열을 초기화 할 수 있다."
      ]
    },
    {
      "cell_type": "code",
      "metadata": {
        "id": "ItT2-n3Q6cyk",
        "colab_type": "code",
        "outputId": "4f5ded0c-0303-42f3-df8b-35bc7d844d7c",
        "colab": {
          "base_uri": "https://localhost:8080/",
          "height": 372
        }
      },
      "source": [
        "import numpy as np\n",
        "\n",
        "# 0부터 3까지의 배열 만들기\n",
        "array1 = np.arange(4)\n",
        "print(array1, '\\n')\n",
        "\n",
        "# 0으로 초기화\n",
        "array2 = np.zeros((4, 4), dtype = float)\n",
        "print(array2, '\\n')\n",
        "\n",
        "# 1로 초기화\n",
        "array3 = np.ones((3, 3), dtype = str)\n",
        "print(array3, '\\n')\n",
        "\n",
        "# 0부터 9까지 랜덤하게 초기화 된 배열 만들기\n",
        "array4 = np.random.randint(0, 10, (3, 3))\n",
        "print(array4, '\\n')\n",
        "\n",
        "# 평균이 0이고 표준편차가 1인 표준 정규를 띄는 배열\n",
        "array5 = np.random.normal(0, 1, (3, 3))\n",
        "print(array5, '\\n')"
      ],
      "execution_count": 0,
      "outputs": [
        {
          "output_type": "stream",
          "text": [
            "[0 1 2 3] \n",
            "\n",
            "[[0. 0. 0. 0.]\n",
            " [0. 0. 0. 0.]\n",
            " [0. 0. 0. 0.]\n",
            " [0. 0. 0. 0.]] \n",
            "\n",
            "[['1' '1' '1']\n",
            " ['1' '1' '1']\n",
            " ['1' '1' '1']] \n",
            "\n",
            "[[2 5 1]\n",
            " [6 1 9]\n",
            " [2 5 9]] \n",
            "\n",
            "[[-0.19033629 -0.32910098 -0.60161492]\n",
            " [-0.2633235   0.76436126  0.48371205]\n",
            " [ 0.79392552  0.43640973 -0.62936043]] \n",
            "\n"
          ],
          "name": "stdout"
        }
      ]
    },
    {
      "cell_type": "markdown",
      "metadata": {
        "id": "iu8Ql6fG8B84",
        "colab_type": "text"
      },
      "source": [
        "**Numpy**는 다양한 형태로 **합치기**가 가능"
      ]
    },
    {
      "cell_type": "code",
      "metadata": {
        "id": "DMmjWUlX7dpM",
        "colab_type": "code",
        "outputId": "f081315f-954c-4e47-b6ac-98611c61c3d3",
        "colab": {
          "base_uri": "https://localhost:8080/",
          "height": 55
        }
      },
      "source": [
        "import numpy as np\n",
        "\n",
        "array1 = np.array([1, 2, 3])\n",
        "array2 = np.array([4, 5, 6])\n",
        "array3 = np.concatenate([array1, array2])\n",
        "\n",
        "print(array3.shape)\n",
        "print(array3)"
      ],
      "execution_count": 0,
      "outputs": [
        {
          "output_type": "stream",
          "text": [
            "(6,)\n",
            "[1 2 3 4 5 6]\n"
          ],
          "name": "stdout"
        }
      ]
    },
    {
      "cell_type": "markdown",
      "metadata": {
        "id": "6NGE9RZP-DQZ",
        "colab_type": "text"
      },
      "source": [
        "**Numpy**를 위 아래로 합칠 수 있다."
      ]
    },
    {
      "cell_type": "code",
      "metadata": {
        "id": "raR2swi5-Cpa",
        "colab_type": "code",
        "outputId": "ef99c2f9-a364-47e3-ce03-f44b75a21d44",
        "colab": {
          "base_uri": "https://localhost:8080/",
          "height": 92
        }
      },
      "source": [
        "import numpy as np\n",
        "\n",
        "array1 = np.arange(4).reshape(1, 4)\n",
        "array2 = np.arange(8).reshape(2, 4)\n",
        "array3 = np.concatenate([array1, array2], axis = 0)\n",
        "\n",
        "print(array3.shape)\n",
        "print(array3)"
      ],
      "execution_count": 0,
      "outputs": [
        {
          "output_type": "stream",
          "text": [
            "(3, 4)\n",
            "[[0 1 2 3]\n",
            " [0 1 2 3]\n",
            " [4 5 6 7]]\n"
          ],
          "name": "stdout"
        }
      ]
    },
    {
      "cell_type": "markdown",
      "metadata": {
        "id": "Vqk0M52t-D5h",
        "colab_type": "text"
      },
      "source": [
        "**Numpy**의 형태를 변경할 수 있다.\n",
        "* reshape()"
      ]
    },
    {
      "cell_type": "code",
      "metadata": {
        "id": "BuREaje49sQk",
        "colab_type": "code",
        "outputId": "0281570c-a6b2-417c-9641-7d3124ec1c4a",
        "colab": {
          "base_uri": "https://localhost:8080/",
          "height": 36
        }
      },
      "source": [
        "import numpy as np\n",
        "\n",
        "array1 = np.array([1, 2, 3, 4])\n",
        "array2 = array1.reshape((2, 2))\n",
        "print(array2.shape)\n"
      ],
      "execution_count": 0,
      "outputs": [
        {
          "output_type": "stream",
          "text": [
            "(2, 2)\n"
          ],
          "name": "stdout"
        }
      ]
    },
    {
      "cell_type": "markdown",
      "metadata": {
        "id": "PnH19-AT_kBD",
        "colab_type": "text"
      },
      "source": [
        "**Numpy**의 형태를 **나누기**할 수 있다."
      ]
    },
    {
      "cell_type": "code",
      "metadata": {
        "id": "OggF1N_4_Nit",
        "colab_type": "code",
        "outputId": "5ea65339-34e1-47c8-ff56-422fc1d2f4dc",
        "colab": {
          "base_uri": "https://localhost:8080/",
          "height": 185
        }
      },
      "source": [
        "import numpy as np\n",
        "\n",
        "array = np.arange(8).reshape(2, 4)\n",
        "left, right = np.split(array, [2], axis = 1)\n",
        "\n",
        "print(array, '\\n')\n",
        "print(left, '\\n')\n",
        "print(right, '\\n')"
      ],
      "execution_count": 0,
      "outputs": [
        {
          "output_type": "stream",
          "text": [
            "[[0 1 2 3]\n",
            " [4 5 6 7]] \n",
            "\n",
            "[[0 1]\n",
            " [4 5]] \n",
            "\n",
            "[[2 3]\n",
            " [6 7]] \n",
            "\n"
          ],
          "name": "stdout"
        }
      ]
    }
  ]
}