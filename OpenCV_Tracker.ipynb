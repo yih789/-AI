{
  "nbformat": 4,
  "nbformat_minor": 0,
  "metadata": {
    "colab": {
      "name": "OpenCV Tracker",
      "provenance": [],
      "collapsed_sections": [],
      "include_colab_link": true
    },
    "kernelspec": {
      "name": "python3",
      "display_name": "Python 3"
    }
  },
  "cells": [
    {
      "cell_type": "markdown",
      "metadata": {
        "id": "view-in-github",
        "colab_type": "text"
      },
      "source": [
        "<a href=\"https://colab.research.google.com/github/yih789/Data-Analysis-and-Image-Processing/blob/master/OpenCV_Tracker.ipynb\" target=\"_parent\"><img src=\"https://colab.research.google.com/assets/colab-badge.svg\" alt=\"Open In Colab\"/></a>"
      ]
    },
    {
      "cell_type": "markdown",
      "metadata": {
        "id": "o9DKbjierGO_",
        "colab_type": "text"
      },
      "source": [
        "## OpenCV Tracker\n"
      ]
    },
    {
      "cell_type": "markdown",
      "metadata": {
        "id": "JOEp9Hg0rI8a",
        "colab_type": "text"
      },
      "source": [
        "cv2.createTracker(track_bar, name, window_name, value, count, on_change): Tracker를 생성하는 함수\n",
        "\n",
        "- value: 초기 값\n",
        "- count: Max 값 (Min: 0)\n",
        "- on_change: 값이 변경될 때 호출되는 Callback 함수\n",
        "\n",
        "cv2.getTrackerPos(track_bar, name, window_name): Tracker로부터 값을 얻어 오는 함수"
      ]
    },
    {
      "cell_type": "markdown",
      "metadata": {
        "id": "6XrNbFUzr1vy",
        "colab_type": "text"
      },
      "source": [
        "### OpenCV Tracker 실습\n"
      ]
    },
    {
      "cell_type": "code",
      "metadata": {
        "id": "knbs8aM7rmyD",
        "colab_type": "code",
        "colab": {}
      },
      "source": [
        "import cv2\n",
        "import numpy as np\n",
        "\n",
        "def change_color(x):\n",
        "  r = cv2.getTrackbarPos(\"R\", \"Image\")\n",
        "  g = cv2.getTrackbarPos(\"G\", \"Image\")\n",
        "  b = cv2.getTrackbarPos(\"B\", \"Image\")\n",
        "  image[:] = [b, g, r]\n",
        "  cv2.imshow('Image', image)\n",
        "  \n",
        "image = np.zeros((600, 400, 3), np.uint8)\n",
        "cv2.namedWindow(\"Image\")\n",
        "\n",
        "cv2.createTrackbar(\"R\", \"Image\", 0, 255, change_color)\n",
        "cv2.createTrackbar(\"G\", \"Image\", 0, 255, change_color)\n",
        "cv2.createTrackbar(\"B\", \"Image\", 0, 255, change_color)\n",
        "\n",
        "cv2.imshow('Image', image)\n",
        "cv2.waitKey(0)"
      ],
      "execution_count": 0,
      "outputs": []
    }
  ]
}