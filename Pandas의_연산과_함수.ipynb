{
  "nbformat": 4,
  "nbformat_minor": 0,
  "metadata": {
    "colab": {
      "name": "Pandas의 연산과 함수",
      "provenance": [],
      "collapsed_sections": [],
      "include_colab_link": true
    },
    "kernelspec": {
      "name": "python3",
      "display_name": "Python 3"
    }
  },
  "cells": [
    {
      "cell_type": "markdown",
      "metadata": {
        "id": "view-in-github",
        "colab_type": "text"
      },
      "source": [
        "<a href=\"https://colab.research.google.com/github/yih789/Data-Analysis-and-Image-Processing/blob/master/Pandas%EC%9D%98_%EC%97%B0%EC%82%B0%EA%B3%BC_%ED%95%A8%EC%88%98.ipynb\" target=\"_parent\"><img src=\"https://colab.research.google.com/assets/colab-badge.svg\" alt=\"Open In Colab\"/></a>"
      ]
    },
    {
      "cell_type": "markdown",
      "metadata": {
        "id": "lsJwi6bECTdM",
        "colab_type": "text"
      },
      "source": [
        "## Pandas의 연산과 함수\n",
        "[강의 노트](https://github.com/ndb796/Python-Data-Analysis-and-Image-Processing-Tutorial/blob/master/24.%20Pandas%EC%9D%98%20%EC%97%B0%EC%82%B0%EA%B3%BC%20%ED%95%A8%EC%88%98/Python%20%EB%8D%B0%EC%9D%B4%ED%84%B0%20%EB%B6%84%EC%84%9D%EA%B3%BC%20%EC%9D%B4%EB%AF%B8%EC%A7%80%20%EC%B2%98%EB%A6%AC%20-%20Pandas%EC%9D%98%20%EC%97%B0%EC%82%B0%EA%B3%BC%20%ED%95%A8%EC%88%98.pdf)"
      ]
    },
    {
      "cell_type": "markdown",
      "metadata": {
        "id": "LdSqN5QgRTNQ",
        "colab_type": "text"
      },
      "source": [
        "**데이터 프레임의 Null 여부 확인**"
      ]
    },
    {
      "cell_type": "code",
      "metadata": {
        "id": "je342Q6VRTwz",
        "colab_type": "code",
        "outputId": "1fe0931d-8342-45ca-fa55-9f067d802475",
        "colab": {
          "base_uri": "https://localhost:8080/",
          "height": 369
        }
      },
      "source": [
        "import pandas as pd\n",
        "import numpy as np\n",
        "\n",
        "word_dict = {\n",
        "    'Apple': '사과',\n",
        "    'Banana': '바나나',\n",
        "    'Carrot': '당근',\n",
        "    'Durian': '두리안'\n",
        "}\n",
        "\n",
        "frequency_dict = {\n",
        "    'Apple': 3,\n",
        "    'Banana': 5,\n",
        "    'Carrot': np.nan, # not a number = NULL\n",
        "    'Durian': 2\n",
        "}\n",
        "\n",
        "importance_dict = {\n",
        "    'Apple': 3,\n",
        "    'Banana': 2,\n",
        "    'Carrot': 1,\n",
        "    'Durian': 1\n",
        "}\n",
        "\n",
        "word = pd.Series(word_dict)\n",
        "frequency = pd.Series(frequency_dict)\n",
        "importance = pd.Series(importance_dict)\n",
        "\n",
        "summary = pd.DataFrame({\n",
        "    'word': word,\n",
        "    'frequency': frequency,\n",
        "    'importance': importance\n",
        "})\n",
        "\n",
        "print(summary)\n",
        "print(summary.notnull()) # NULL 값이 아닌 것만 True\n",
        "print(summary.isnull()) # NULL 값인 것 True\n",
        "summary['frequency'] = summary['frequency'].fillna('데이터 없음')\n",
        "print(summary)"
      ],
      "execution_count": 0,
      "outputs": [
        {
          "output_type": "stream",
          "text": [
            "       word  frequency  importance\n",
            "Apple    사과        3.0           3\n",
            "Banana  바나나        5.0           2\n",
            "Carrot   당근        NaN           1\n",
            "Durian  두리안        2.0           1\n",
            "        word  frequency  importance\n",
            "Apple   True       True        True\n",
            "Banana  True       True        True\n",
            "Carrot  True      False        True\n",
            "Durian  True       True        True\n",
            "         word  frequency  importance\n",
            "Apple   False      False       False\n",
            "Banana  False      False       False\n",
            "Carrot  False       True       False\n",
            "Durian  False      False       False\n",
            "       word frequency  importance\n",
            "Apple    사과         3           3\n",
            "Banana  바나나         5           2\n",
            "Carrot   당근    데이터 없음           1\n",
            "Durian  두리안         2           1\n"
          ],
          "name": "stdout"
        }
      ]
    },
    {
      "cell_type": "markdown",
      "metadata": {
        "id": "PAvCz0t2SQ5d",
        "colab_type": "text"
      },
      "source": [
        "**시리즈 자료형의 연산**"
      ]
    },
    {
      "cell_type": "code",
      "metadata": {
        "id": "t4HT0IlrRmR9",
        "colab_type": "code",
        "outputId": "f48edc5e-3fa6-42c9-dc85-7c685604f493",
        "colab": {
          "base_uri": "https://localhost:8080/",
          "height": 204
        }
      },
      "source": [
        "import pandas as pd\n",
        "\n",
        "array1 = pd.Series([1, 2, 3], index=['A', 'B', 'C'])\n",
        "array2 = pd.Series([4, 5, 6], index=['B', 'C', 'D'])\n",
        "\n",
        "# fill_value를 이용하여 연산할 두 시리즈의 데이터가 맞지 않을 때 처리하기\n",
        "# 자신에게 존재하지 않는 상대의 인덱스의 값을 0으로 처리\n",
        "# 처리하지 않으면 null값 저장된다.\n",
        "array = array1.add(array2, fill_value=0)\n",
        "print(array)\n",
        "\n",
        "array = array1.add(array2)\n",
        "print(array)"
      ],
      "execution_count": 0,
      "outputs": [
        {
          "output_type": "stream",
          "text": [
            "A    1.0\n",
            "B    6.0\n",
            "C    8.0\n",
            "D    6.0\n",
            "dtype: float64\n",
            "A    NaN\n",
            "B    6.0\n",
            "C    8.0\n",
            "D    NaN\n",
            "dtype: float64\n"
          ],
          "name": "stdout"
        }
      ]
    },
    {
      "cell_type": "markdown",
      "metadata": {
        "id": "r27yrotGSfGt",
        "colab_type": "text"
      },
      "source": [
        "**데이터 프레임 자료형의 연산**\n",
        "\n",
        "![image.png](data:image/png;base64,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)"
      ]
    },
    {
      "cell_type": "code",
      "metadata": {
        "id": "2fn0IFdtSY45",
        "colab_type": "code",
        "outputId": "07d96d69-10cd-4f3c-ed9f-84fd32d8ec1e",
        "colab": {
          "base_uri": "https://localhost:8080/",
          "height": 228
        }
      },
      "source": [
        "import pandas as pd\n",
        "\n",
        "array1 = pd.DataFrame([[1, 2], [3, 4]], index=['A', 'B'])\n",
        "array2 = pd.DataFrame([[1, 2, 3], [4, 5, 6], [7, 8, 9]], index=['B', 'C', 'D'])\n",
        "\n",
        "print(array1)\n",
        "print(array2)\n",
        "\n",
        "array = array1.add(array2, fill_value=0)\n",
        "print(array)"
      ],
      "execution_count": 0,
      "outputs": [
        {
          "output_type": "stream",
          "text": [
            "   0  1\n",
            "A  1  2\n",
            "B  3  4\n",
            "   0  1  2\n",
            "B  1  2  3\n",
            "C  4  5  6\n",
            "D  7  8  9\n",
            "     0    1    2\n",
            "A  1.0  2.0  NaN\n",
            "B  4.0  6.0  3.0\n",
            "C  4.0  5.0  6.0\n",
            "D  7.0  8.0  9.0\n"
          ],
          "name": "stdout"
        }
      ]
    },
    {
      "cell_type": "markdown",
      "metadata": {
        "id": "tLmm-W_gTAgl",
        "colab_type": "text"
      },
      "source": [
        "**데이터 프레임 집계 함수**"
      ]
    },
    {
      "cell_type": "code",
      "metadata": {
        "id": "8q8_tbW1Sz4F",
        "colab_type": "code",
        "outputId": "f7d7b9a0-0412-40c8-8887-8e4389a0acb1",
        "colab": {
          "base_uri": "https://localhost:8080/",
          "height": 204
        }
      },
      "source": [
        "import pandas as pd\n",
        "\n",
        "array1 = pd.DataFrame([[1, 2], [3, 4]], index=['A', 'B'])\n",
        "array2 = pd.DataFrame([[1, 2, 3], [4, 5, 6], [7, 8, 9]], index=['B', 'C', 'D'])\n",
        "\n",
        "array = array1.add(array2, fill_value=0)\n",
        "print(array)\n",
        "print(\"컬럼 1의 합:\", array[1].sum())\n",
        "print(array.sum())"
      ],
      "execution_count": 0,
      "outputs": [
        {
          "output_type": "stream",
          "text": [
            "     0    1    2\n",
            "A  1.0  2.0  NaN\n",
            "B  4.0  6.0  3.0\n",
            "C  4.0  5.0  6.0\n",
            "D  7.0  8.0  9.0\n",
            "컬럼 1의 합: 21.0\n",
            "0    16.0\n",
            "1    21.0\n",
            "2    18.0\n",
            "dtype: float64\n"
          ],
          "name": "stdout"
        }
      ]
    },
    {
      "cell_type": "markdown",
      "metadata": {
        "id": "F8Kt8xD4TKB8",
        "colab_type": "text"
      },
      "source": [
        "**데이터 프레임 정렬 함수**"
      ]
    },
    {
      "cell_type": "code",
      "metadata": {
        "id": "gR2mxcUgTLLr",
        "colab_type": "code",
        "outputId": "6850dd1c-9354-4249-dcf2-14c8775a469d",
        "colab": {
          "base_uri": "https://localhost:8080/",
          "height": 204
        }
      },
      "source": [
        "import pandas as pd\n",
        "import numpy as np\n",
        "\n",
        "word_dict = {\n",
        "    'Apple': '사과',\n",
        "    'Banana': '바나나',\n",
        "    'Carrot': '당근',\n",
        "    'Durian': '두리안'\n",
        "}\n",
        "\n",
        "frequency_dict = {\n",
        "    'Apple': 3,\n",
        "    'Banana': 5,\n",
        "    'Carrot': 1,\n",
        "    'Durian': 2\n",
        "}\n",
        "\n",
        "importance_dict = {\n",
        "    'Apple': 3,\n",
        "    'Banana': 2,\n",
        "    'Carrot': 1,\n",
        "    'Durian': 1\n",
        "}\n",
        "\n",
        "word = pd.Series(word_dict)\n",
        "frequency = pd.Series(frequency_dict)\n",
        "importance = pd.Series(importance_dict)\n",
        "\n",
        "summary = pd.DataFrame({\n",
        "    'word': word,\n",
        "    'frequency': frequency,\n",
        "    'importance': importance\n",
        "})\n",
        "\n",
        "print(summary)\n",
        "# True는 오름차순\n",
        "summary = summary.sort_values('frequency', ascending= False) # 내림차순\n",
        "print(summary)"
      ],
      "execution_count": 0,
      "outputs": [
        {
          "output_type": "stream",
          "text": [
            "       word  frequency  importance\n",
            "Apple    사과          3           3\n",
            "Banana  바나나          5           2\n",
            "Carrot   당근          1           1\n",
            "Durian  두리안          2           1\n",
            "       word  frequency  importance\n",
            "Banana  바나나          5           2\n",
            "Apple    사과          3           3\n",
            "Durian  두리안          2           1\n",
            "Carrot   당근          1           1\n"
          ],
          "name": "stdout"
        }
      ]
    },
    {
      "cell_type": "code",
      "metadata": {
        "id": "HbiJhxug3D81",
        "colab_type": "code",
        "colab": {}
      },
      "source": [
        ""
      ],
      "execution_count": 0,
      "outputs": []
    }
  ]
}