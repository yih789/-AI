{
  "nbformat": 4,
  "nbformat_minor": 0,
  "metadata": {
    "colab": {
      "name": "Pandas의 활용",
      "provenance": [],
      "collapsed_sections": [],
      "include_colab_link": true
    },
    "kernelspec": {
      "name": "python3",
      "display_name": "Python 3"
    }
  },
  "cells": [
    {
      "cell_type": "markdown",
      "metadata": {
        "id": "view-in-github",
        "colab_type": "text"
      },
      "source": [
        "<a href=\"https://colab.research.google.com/github/yih789/Data-Analysis-and-Image-Processing/blob/master/Pandas%EC%9D%98_%ED%99%9C%EC%9A%A9.ipynb\" target=\"_parent\"><img src=\"https://colab.research.google.com/assets/colab-badge.svg\" alt=\"Open In Colab\"/></a>"
      ]
    },
    {
      "cell_type": "markdown",
      "metadata": {
        "id": "Siz51OxuV4d8",
        "colab_type": "text"
      },
      "source": [
        "## Pandas의 활용\n",
        "[강의 노트](https://github.com/ndb796/Python-Data-Analysis-and-Image-Processing-Tutorial/blob/master/25.%20Pandas%EC%9D%98%20%ED%99%9C%EC%9A%A9/Python%20%EB%8D%B0%EC%9D%B4%ED%84%B0%20%EB%B6%84%EC%84%9D%EA%B3%BC%20%EC%9D%B4%EB%AF%B8%EC%A7%80%20%EC%B2%98%EB%A6%AC%20-%20Pandas%EC%9D%98%20%ED%99%9C%EC%9A%A9.pdf)"
      ]
    },
    {
      "cell_type": "markdown",
      "metadata": {
        "id": "a6yNz5AwV9xy",
        "colab_type": "text"
      },
      "source": [
        "**데이터 프레임의 마스킹**"
      ]
    },
    {
      "cell_type": "code",
      "metadata": {
        "id": "JmS4kFl4V4vq",
        "colab_type": "code",
        "outputId": "df4db6a7-0f7a-4120-acf0-213a977eae77",
        "colab": {
          "base_uri": "https://localhost:8080/",
          "height": 167
        }
      },
      "source": [
        "import numpy as np\n",
        "import pandas as pd\n",
        "\n",
        "df = pd.DataFrame(np.random.randint(1, 10, (2, 2)), index=[0, 1], columns=[\"A\", \"B\"])\n",
        "# 데이터 프레임 출력하기\n",
        "print(df)\n",
        "# 컬럼 A의 각 원소가 5보다 작거나 같은지 출력\n",
        "print(df[\"A\"] <= 5)\n",
        "# 컬럼 A의 원소가 5보다 작고, 컬럼 B의 원소가 8보다 작은 행 추출\n",
        "print(df.query(\"A <= 5 and B <= 8\"))"
      ],
      "execution_count": 0,
      "outputs": [
        {
          "output_type": "stream",
          "text": [
            "   A  B\n",
            "0  4  5\n",
            "1  6  9\n",
            "0     True\n",
            "1    False\n",
            "Name: A, dtype: bool\n",
            "   A  B\n",
            "0  4  5\n"
          ],
          "name": "stdout"
        }
      ]
    },
    {
      "cell_type": "markdown",
      "metadata": {
        "id": "AzDJfh-GaFMM",
        "colab_type": "text"
      },
      "source": [
        "**데이터 프레임의 개별 연산 ①**"
      ]
    },
    {
      "cell_type": "code",
      "metadata": {
        "id": "F84X4ZN5aFTj",
        "colab_type": "code",
        "outputId": "cedefaba-781b-4fd1-f1ad-19a188773b26",
        "colab": {
          "base_uri": "https://localhost:8080/",
          "height": 223
        }
      },
      "source": [
        "import pandas as pd\n",
        "\n",
        "df = pd.DataFrame([[1, 2, 3, 4], [1, 2, 3, 4]], index=[0, 1], columns=[\"A\", \"B\", \"C\", \"D\"])\n",
        "print(df)\n",
        "print(\"####################\")\n",
        "\n",
        "df = df.apply(lambda x: x + 1)\n",
        "print(df)\n",
        "print(\"####################\")\n",
        "\n",
        "def addOne(x):\n",
        "  return x + 1\n",
        "  \n",
        "df = df.apply(addOne)\n",
        "print(df)"
      ],
      "execution_count": 0,
      "outputs": [
        {
          "output_type": "stream",
          "text": [
            "   A  B  C  D\n",
            "0  1  2  3  4\n",
            "1  1  2  3  4\n",
            "####################\n",
            "   A  B  C  D\n",
            "0  2  3  4  5\n",
            "1  2  3  4  5\n",
            "####################\n",
            "   A  B  C  D\n",
            "0  3  4  5  6\n",
            "1  3  4  5  6\n"
          ],
          "name": "stdout"
        }
      ]
    },
    {
      "cell_type": "markdown",
      "metadata": {
        "id": "tUnEKp3rWISR",
        "colab_type": "text"
      },
      "source": [
        "**데이터 프레임의 개별 연산 ②**"
      ]
    },
    {
      "cell_type": "code",
      "metadata": {
        "id": "5rU-cJcMWHHW",
        "colab_type": "code",
        "outputId": "51af8aa9-a719-400e-ba9c-ac9cb44d69b1",
        "colab": {
          "base_uri": "https://localhost:8080/",
          "height": 122
        }
      },
      "source": [
        "import pandas as pd\n",
        "\n",
        "df = pd.DataFrame([\n",
        "  ['Apple', 'Apple', 'Carrot', 'Banana'],\n",
        "  ['Durian', 'Banana', 'Apple', 'Carrot']],\n",
        "  index=[0, 1],\n",
        "  columns=[\"A\", \"B\", \"C\", \"D\"])\n",
        "\n",
        "print(df)\n",
        "df = df.replace({\"Apple\": \"Airport\"})\n",
        "print(df)"
      ],
      "execution_count": 0,
      "outputs": [
        {
          "output_type": "stream",
          "text": [
            "        A       B       C       D\n",
            "0   Apple   Apple  Carrot  Banana\n",
            "1  Durian  Banana   Apple  Carrot\n",
            "         A        B        C       D\n",
            "0  Airport  Airport   Carrot  Banana\n",
            "1   Durian   Banana  Airport  Carrot\n"
          ],
          "name": "stdout"
        }
      ]
    },
    {
      "cell_type": "markdown",
      "metadata": {
        "id": "Si54bY9DWiCL",
        "colab_type": "text"
      },
      "source": [
        "**데이터 프레임의 그룹화 ①**"
      ]
    },
    {
      "cell_type": "code",
      "metadata": {
        "id": "X_5G6gbRWabq",
        "colab_type": "code",
        "outputId": "b0e2add1-a22b-4292-ec49-6b4c29a8eaff",
        "colab": {
          "base_uri": "https://localhost:8080/",
          "height": 175
        }
      },
      "source": [
        "import pandas as pd\n",
        "\n",
        "df = pd.DataFrame([\n",
        "  ['Apple', 7, 'Fruit'],\n",
        "  ['Banana', 3, 'Fruit'],\n",
        "  ['Beef', 5, 'Meal'],\n",
        "  ['Kimchi', 4, 'Meal']],\n",
        "  columns=[\"Name\", \"Frequency\", \"Type\"])\n",
        "\n",
        "print(df)\n",
        "print(df.groupby(['Type']).sum())"
      ],
      "execution_count": 0,
      "outputs": [
        {
          "output_type": "stream",
          "text": [
            "     Name  Frequency   Type\n",
            "0   Apple          7  Fruit\n",
            "1  Banana          3  Fruit\n",
            "2    Beef          5   Meal\n",
            "3  Kimchi          4   Meal\n",
            "       Frequency\n",
            "Type            \n",
            "Fruit         10\n",
            "Meal           9\n"
          ],
          "name": "stdout"
        }
      ]
    },
    {
      "cell_type": "markdown",
      "metadata": {
        "id": "e05shubVXAFi",
        "colab_type": "text"
      },
      "source": [
        "**데이터 프레임의 그룹화 ②**"
      ]
    },
    {
      "cell_type": "code",
      "metadata": {
        "id": "tK8xeFvFWrh5",
        "colab_type": "code",
        "outputId": "cdd9c334-6a42-4f54-aff7-f35a0cbfcbd9",
        "colab": {
          "base_uri": "https://localhost:8080/",
          "height": 223
        }
      },
      "source": [
        "import numpy as np\n",
        "import pandas as pd\n",
        "\n",
        "df = pd.DataFrame([\n",
        "  ['Apple', 7, 5, 'Fruit'],\n",
        "  ['Banana', 3, 6, 'Fruit'],\n",
        "  ['Beef', 5, 2, 'Meal'],\n",
        "  ['Kimchi', 4, 8, 'Meal']],\n",
        "  columns=[\"Name\", \"Frequency\", \"Importance\", \"Type\"])\n",
        "\n",
        "print(df)\n",
        "print(\"######################################\")\n",
        "print(df.groupby([\"Type\"]).aggregate([min, max, np.average]))"
      ],
      "execution_count": 0,
      "outputs": [
        {
          "output_type": "stream",
          "text": [
            "     Name  Frequency  Importance   Type\n",
            "0   Apple          7           5  Fruit\n",
            "1  Banana          3           6  Fruit\n",
            "2    Beef          5           2   Meal\n",
            "3  Kimchi          4           8   Meal\n",
            "######################################\n",
            "      Frequency             Importance            \n",
            "            min max average        min max average\n",
            "Type                                              \n",
            "Fruit         3   7     5.0          5   6     5.5\n",
            "Meal          4   5     4.5          2   8     5.0\n"
          ],
          "name": "stdout"
        }
      ]
    },
    {
      "cell_type": "markdown",
      "metadata": {
        "id": "KM1IGVLkXfeT",
        "colab_type": "text"
      },
      "source": [
        "**데이터 프레임의 그룹화 ③**"
      ]
    },
    {
      "cell_type": "code",
      "metadata": {
        "id": "-X9CQdRtXKbi",
        "colab_type": "code",
        "outputId": "5b504fd7-a6d4-4083-c22f-5ee195a9154b",
        "colab": {
          "base_uri": "https://localhost:8080/",
          "height": 185
        }
      },
      "source": [
        "import pandas as pd\n",
        "\n",
        "df = pd.DataFrame([\n",
        "  ['Apple', 7, 5, 'Fruit'],\n",
        "  ['Banana', 3, 6, 'Fruit'],\n",
        "  ['Beef', 5, 2, 'Meal'],\n",
        "  ['Kimchi', 4, 8, 'Meal']],\n",
        "  columns=[\"Name\", \"Frequency\", \"Importance\", \"Type\"])\n",
        "\n",
        "\n",
        "def my_filter(data):\n",
        "  return data[\"Frequency\"].mean() >= 5\n",
        "\n",
        "\n",
        "print(df)\n",
        "print(\"#######################################\")\n",
        "df = df.groupby(\"Type\").filter(my_filter)\n",
        "print(df)"
      ],
      "execution_count": 0,
      "outputs": [
        {
          "output_type": "stream",
          "text": [
            "     Name  Frequency  Importance   Type\n",
            "0   Apple          7           5  Fruit\n",
            "1  Banana          3           6  Fruit\n",
            "2    Beef          5           2   Meal\n",
            "3  Kimchi          4           8   Meal\n",
            "#######################################\n",
            "     Name  Frequency  Importance   Type\n",
            "0   Apple          7           5  Fruit\n",
            "1  Banana          3           6  Fruit\n"
          ],
          "name": "stdout"
        }
      ]
    },
    {
      "cell_type": "markdown",
      "metadata": {
        "id": "u7MF95UNYLXK",
        "colab_type": "text"
      },
      "source": [
        "**데이터 프레임의 그룹화 ④**"
      ]
    },
    {
      "cell_type": "code",
      "metadata": {
        "id": "CoBR2GKrXv2f",
        "colab_type": "code",
        "outputId": "cf03ca48-3f7f-4c56-f76f-f266bf1a43a4",
        "colab": {
          "base_uri": "https://localhost:8080/",
          "height": 185
        }
      },
      "source": [
        "import pandas as pd\n",
        "\n",
        "df = pd.DataFrame([\n",
        "  ['Apple', 7, 5, 'Fruit'],\n",
        "  ['Banana', 3, 6, 'Fruit'],\n",
        "  ['Beef', 5, 2, 'Meal'],\n",
        "  ['Kimchi', 4, 8, 'Meal']],\n",
        "  columns=[\"Name\", \"Frequency\", \"Importance\", \"Type\"])\n",
        "\n",
        "print(df)\n",
        "print(\"#######################################\")\n",
        "df = df.groupby(\"Type\").get_group(\"Fruit\")\n",
        "print(df)"
      ],
      "execution_count": 0,
      "outputs": [
        {
          "output_type": "stream",
          "text": [
            "     Name  Frequency  Importance   Type\n",
            "0   Apple          7           5  Fruit\n",
            "1  Banana          3           6  Fruit\n",
            "2    Beef          5           2   Meal\n",
            "3  Kimchi          4           8   Meal\n",
            "#######################################\n",
            "     Name  Frequency  Importance   Type\n",
            "0   Apple          7           5  Fruit\n",
            "1  Banana          3           6  Fruit\n"
          ],
          "name": "stdout"
        }
      ]
    },
    {
      "cell_type": "markdown",
      "metadata": {
        "id": "js9z060RYnXG",
        "colab_type": "text"
      },
      "source": [
        "**데이터 프레임의 그룹화 ⑤**"
      ]
    },
    {
      "cell_type": "code",
      "metadata": {
        "id": "1WbTCOHcYSVX",
        "colab_type": "code",
        "outputId": "224f276f-a29d-4b93-d933-df0a793d17e2",
        "colab": {
          "base_uri": "https://localhost:8080/",
          "height": 223
        }
      },
      "source": [
        "import pandas as pd\n",
        "\n",
        "df = pd.DataFrame([\n",
        "  ['Apple', 7, 5, 'Fruit'],\n",
        "  ['Banana', 3, 6, 'Fruit'],\n",
        "  ['Beef', 5, 2, 'Meal'],\n",
        "  ['Kimchi', 4, 8, 'Meal']],\n",
        "  columns=[\"Name\", \"Frequency\", \"Importance\", \"Type\"])\n",
        "\n",
        "print(df)\n",
        "print(\"#######################################\")\n",
        "df[\"Gap\"] = df.groupby(\"Type\")[\"Frequency\"].apply(lambda x: x - x.mean())\n",
        "print(df)"
      ],
      "execution_count": 0,
      "outputs": [
        {
          "output_type": "stream",
          "text": [
            "     Name  Frequency  Importance   Type\n",
            "0   Apple          7           5  Fruit\n",
            "1  Banana          3           6  Fruit\n",
            "2    Beef          5           2   Meal\n",
            "3  Kimchi          4           8   Meal\n",
            "#######################################\n",
            "     Name  Frequency  Importance   Type  Gap\n",
            "0   Apple          7           5  Fruit  2.0\n",
            "1  Banana          3           6  Fruit -2.0\n",
            "2    Beef          5           2   Meal  0.5\n",
            "3  Kimchi          4           8   Meal -0.5\n"
          ],
          "name": "stdout"
        }
      ]
    },
    {
      "cell_type": "markdown",
      "metadata": {
        "id": "kZA_fuA_ZD2r",
        "colab_type": "text"
      },
      "source": [
        "**데이터 프레임의 다중화**"
      ]
    },
    {
      "cell_type": "code",
      "metadata": {
        "id": "9Rr1E0YIYwv2",
        "colab_type": "code",
        "outputId": "93959568-5515-4a86-9949-7fa1ecd15158",
        "colab": {
          "base_uri": "https://localhost:8080/",
          "height": 185
        }
      },
      "source": [
        "import numpy as np\n",
        "import pandas as pd\n",
        "\n",
        "df = pd.DataFrame(\n",
        "  np.random.randint(1, 10, (4, 4)),\n",
        "  index=[['1차', '1차', '2차', '2차'], ['공격', '수비', '공격', '수비']],\n",
        "  columns=['1회', '2회', '3회', '4회']\n",
        ")\n",
        "\n",
        "print(df)\n",
        "print(\"#######################################\")\n",
        "print(df[[\"1회\", \"2회\"]].loc[\"2차\"])"
      ],
      "execution_count": 0,
      "outputs": [
        {
          "output_type": "stream",
          "text": [
            "       1회  2회  3회  4회\n",
            "1차 공격   7   4   4   2\n",
            "   수비   6   5   1   9\n",
            "2차 공격   5   7   4   2\n",
            "   수비   4   3   3   4\n",
            "#######################################\n",
            "    1회  2회\n",
            "공격   5   7\n",
            "수비   4   3\n"
          ],
          "name": "stdout"
        }
      ]
    },
    {
      "cell_type": "markdown",
      "metadata": {
        "id": "C2ApJAuvZWrM",
        "colab_type": "text"
      },
      "source": [
        "**피벗 테이블의 기초**"
      ]
    },
    {
      "cell_type": "code",
      "metadata": {
        "id": "UHAMMdNIZL-0",
        "colab_type": "code",
        "outputId": "7fd1117d-aee7-4641-81ed-d5df16ea31cf",
        "colab": {
          "base_uri": "https://localhost:8080/",
          "height": 279
        }
      },
      "source": [
        "import numpy as np\n",
        "import pandas as pd\n",
        "\n",
        "df = pd.DataFrame([\n",
        "    ['Apple', 7, 5, 'Fruit'],\n",
        "    ['Banana', 3, 6, 'Fruit'],\n",
        "    ['Coconut', 2, 6, 'Fruit'],\n",
        "    ['Rice', 8, 2, 'Meal'],\n",
        "    ['Beef', 5, 2, 'Meal'],\n",
        "    ['Kimchi', 4, 8, 'Meal']],\n",
        "   columns=[\"Name\", \"Frequency\", \"Importance\", \"Type\"])\n",
        "\n",
        "print(df)\n",
        "print(\"#######################################\")\n",
        "df = df.pivot_table(\n",
        "    index=\"Importance\", columns=\"Type\", values=\"Frequency\",\n",
        "    aggfunc=np.max # values값은 최댓값으로 한다.\n",
        ")\n",
        "print(df)"
      ],
      "execution_count": 0,
      "outputs": [
        {
          "output_type": "stream",
          "text": [
            "      Name  Frequency  Importance   Type\n",
            "0    Apple          7           5  Fruit\n",
            "1   Banana          3           6  Fruit\n",
            "2  Coconut          2           6  Fruit\n",
            "3     Rice          8           2   Meal\n",
            "4     Beef          5           2   Meal\n",
            "5   Kimchi          4           8   Meal\n",
            "#######################################\n",
            "Type        Fruit  Meal\n",
            "Importance             \n",
            "2             NaN   8.0\n",
            "5             7.0   NaN\n",
            "6             3.0   NaN\n",
            "8             NaN   4.0\n"
          ],
          "name": "stdout"
        }
      ]
    },
    {
      "cell_type": "code",
      "metadata": {
        "id": "nlCueYUl6DMD",
        "colab_type": "code",
        "colab": {}
      },
      "source": [
        ""
      ],
      "execution_count": 0,
      "outputs": []
    }
  ]
}