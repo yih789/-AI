{
  "nbformat": 4,
  "nbformat_minor": 0,
  "metadata": {
    "colab": {
      "name": "네이버 영화 리뷰 데이터 분석 1. 영화 정보 크롤링",
      "provenance": [],
      "collapsed_sections": [],
      "include_colab_link": true
    },
    "kernelspec": {
      "name": "python3",
      "display_name": "Python 3"
    }
  },
  "cells": [
    {
      "cell_type": "markdown",
      "metadata": {
        "id": "view-in-github",
        "colab_type": "text"
      },
      "source": [
        "<a href=\"https://colab.research.google.com/github/yih789/Data-Analysis-and-Image-Processing/blob/master/%EB%84%A4%EC%9D%B4%EB%B2%84_%EC%98%81%ED%99%94_%EB%A6%AC%EB%B7%B0_%EB%8D%B0%EC%9D%B4%ED%84%B0_%EB%B6%84%EC%84%9D_1_%EC%98%81%ED%99%94_%EC%A0%95%EB%B3%B4_%ED%81%AC%EB%A1%A4%EB%A7%81.ipynb\" target=\"_parent\"><img src=\"https://colab.research.google.com/assets/colab-badge.svg\" alt=\"Open In Colab\"/></a>"
      ]
    },
    {
      "cell_type": "markdown",
      "metadata": {
        "id": "_hiyITsUk0Ze",
        "colab_type": "text"
      },
      "source": [
        "## 네이버 영화 리뷰 데이터 분석 1. 영화 정보 크롤링\n",
        "[강의 노트](https://github.com/ndb796/Python-Data-Analysis-and-Image-Processing-Tutorial/blob/master/29.%20%EB%84%A4%EC%9D%B4%EB%B2%84%20%EC%98%81%ED%99%94%20%EB%A6%AC%EB%B7%B0%20%EB%8D%B0%EC%9D%B4%ED%84%B0%20%EB%B6%84%EC%84%9D%20%E2%91%A0%20%EC%98%81%ED%99%94%20%EC%A0%95%EB%B3%B4%20%ED%81%AC%EB%A1%A4%EB%A7%81/%EB%84%A4%EC%9D%B4%EB%B2%84%20%EC%98%81%ED%99%94%20%EB%A6%AC%EB%B7%B0%20%EB%8D%B0%EC%9D%B4%ED%84%B0%20%EB%B6%84%EC%84%9D%20%E2%91%A0%20%EC%98%81%ED%99%94%20%EC%A0%95%EB%B3%B4%20%ED%81%AC%EB%A1%A4%EB%A7%81.pdf)"
      ]
    },
    {
      "cell_type": "markdown",
      "metadata": {
        "id": "xCYPvtsxkN6P",
        "colab_type": "text"
      },
      "source": [
        "**리뷰 정보 클래스 작성하기**"
      ]
    },
    {
      "cell_type": "code",
      "metadata": {
        "id": "RWjUFzDCkPN3",
        "colab_type": "code",
        "colab": {}
      },
      "source": [
        "import urllib.request\n",
        "from bs4 import BeautifulSoup\n",
        "\n",
        "class Review:\n",
        "  def __init__(self, comment, date, star, good, bad):\n",
        "    self.comment = comment\n",
        "    self.date = date\n",
        "    self.star = star\n",
        "    self.good = good\n",
        "    self.bad = bad\n",
        "\n",
        "  def show(self):\n",
        "    print(\"내용: \" + self.comment +\n",
        "          \"\\n날짜: \" + self.date +\n",
        "          \"\\n별점: \" + self.star +\n",
        "          \"\\n좋아요: \" + self.good +\n",
        "          \"\\n싫어요: \" + self.bad)"
      ],
      "execution_count": 0,
      "outputs": []
    },
    {
      "cell_type": "markdown",
      "metadata": {
        "id": "VpgHVILNkf4_",
        "colab_type": "text"
      },
      "source": [
        "**리뷰 정보 크롤링 함수**"
      ]
    },
    {
      "cell_type": "code",
      "metadata": {
        "id": "XLW9RIx9kZU8",
        "colab_type": "code",
        "colab": {}
      },
      "source": [
        "def crawl(url):\n",
        "  soup = BeautifulSoup(urllib.request.urlopen(url).read(), \"html.parser\")\n",
        "  review_list = []\n",
        "  title = soup.find('h3', class_='h_movie').find('a').text\n",
        "  div = soup.find(\"div\", class_=\"score_result\")\n",
        "  data_list = div.select(\"ul > li\")\n",
        "  \n",
        "  for review in data_list:\n",
        "    star = review.find(\"div\", class_=\"star_score\").text.strip()\n",
        "    reply = review.find(\"div\", class_=\"score_reple\")\n",
        "    comment = reply.find(\"p\").text.strip()\n",
        "    date = reply.select(\"dt > em\")[1].text.strip()\n",
        "    button = review.find(\"div\", class_=\"btn_area\")\n",
        "    sympathy = button.select(\"strong\")\n",
        "    good = sympathy[0].text\n",
        "    bad = sympathy[1].text\n",
        "    review_list.append(Review(comment, date, star, good, bad))\n",
        "\n",
        "  return title, review_list"
      ],
      "execution_count": 0,
      "outputs": []
    },
    {
      "cell_type": "markdown",
      "metadata": {
        "id": "p8Qqj8-ck3zA",
        "colab_type": "text"
      },
      "source": [
        "**리뷰 정보 크롤링 실습**"
      ]
    },
    {
      "cell_type": "code",
      "metadata": {
        "id": "HYBdejwgk5Hg",
        "colab_type": "code",
        "outputId": "383e5472-f6b9-475c-eb8f-7b4ed248f1c2",
        "colab": {
          "base_uri": "https://localhost:8080/",
          "height": 503
        }
      },
      "source": [
        "title, review_list = crawl(\"https://movie.naver.com/movie/bi/mi/basic.nhn?code=36944\")\n",
        "print('제목: ' + title)\n",
        "for review in review_list:\n",
        "  review.show()"
      ],
      "execution_count": 0,
      "outputs": [
        {
          "output_type": "stream",
          "text": [
            "제목: 올드보이\n",
            "내용: 이 영화는 필요 이상으로 너무 잘만들었다. 인간이 만든 작품이 아니다.\n",
            "날짜: 2013.06.09 17:59\n",
            "별점: 10\n",
            "좋아요: 2976\n",
            "싫어요: 178\n",
            "내용: 충격적인 영화 촬영 기법, 스토리, 눈물샘을 자극시키는 사운드트랙. 대중영화 예술에 큰 기여를 한 혁명적인 영화.\n",
            "날짜: 2013.06.09 01:08\n",
            "별점: 10\n",
            "좋아요: 1912\n",
            "싫어요: 77\n",
            "내용: 사람은 상상력이 있어서 비겁해 지는거래...\n",
            "날짜: 2013.07.17 14:26\n",
            "별점: 10\n",
            "좋아요: 1698\n",
            "싫어요: 63\n",
            "내용: 10년만에 다시 본 올드보이. 역시 최고였다.\n",
            "날짜: 2013.07.28 01:53\n",
            "별점: 10\n",
            "좋아요: 1316\n",
            "싫어요: 61\n",
            "내용: 지금껏본 영화중 제일 재미있었다스토리 전개 하나도나무랄데 없는 작품\n",
            "날짜: 2013.06.06 23:11\n",
            "별점: 10\n",
            "좋아요: 1158\n",
            "싫어요: 66\n"
          ],
          "name": "stdout"
        }
      ]
    }
  ]
}