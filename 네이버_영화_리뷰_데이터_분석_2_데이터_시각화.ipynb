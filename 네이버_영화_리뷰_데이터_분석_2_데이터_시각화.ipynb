{
  "nbformat": 4,
  "nbformat_minor": 0,
  "metadata": {
    "colab": {
      "name": "네이버 영화 리뷰 데이터 분석 2. 데이터 시각화",
      "provenance": [],
      "collapsed_sections": [],
      "include_colab_link": true
    },
    "kernelspec": {
      "name": "python3",
      "display_name": "Python 3"
    }
  },
  "cells": [
    {
      "cell_type": "markdown",
      "metadata": {
        "id": "view-in-github",
        "colab_type": "text"
      },
      "source": [
        "<a href=\"https://colab.research.google.com/github/yih789/Data-Analysis-and-Image-Processing/blob/master/%EB%84%A4%EC%9D%B4%EB%B2%84_%EC%98%81%ED%99%94_%EB%A6%AC%EB%B7%B0_%EB%8D%B0%EC%9D%B4%ED%84%B0_%EB%B6%84%EC%84%9D_2_%EB%8D%B0%EC%9D%B4%ED%84%B0_%EC%8B%9C%EA%B0%81%ED%99%94.ipynb\" target=\"_parent\"><img src=\"https://colab.research.google.com/assets/colab-badge.svg\" alt=\"Open In Colab\"/></a>"
      ]
    },
    {
      "cell_type": "markdown",
      "metadata": {
        "id": "5eccYF0jljXv",
        "colab_type": "text"
      },
      "source": [
        "## 네이버 영화 리뷰 데이터 분석 2. 데이터 시각화\n",
        "[강의 노트](https://github.com/ndb796/Python-Data-Analysis-and-Image-Processing-Tutorial/blob/master/30.%20%EB%84%A4%EC%9D%B4%EB%B2%84%20%EC%98%81%ED%99%94%20%EB%A6%AC%EB%B7%B0%20%EB%8D%B0%EC%9D%B4%ED%84%B0%20%EB%B6%84%EC%84%9D%20%E2%91%A1%20%EB%8D%B0%EC%9D%B4%ED%84%B0%20%EC%8B%9C%EA%B0%81%ED%99%94/%EB%84%A4%EC%9D%B4%EB%B2%84%20%EC%98%81%ED%99%94%20%EB%A6%AC%EB%B7%B0%20%EB%8D%B0%EC%9D%B4%ED%84%B0%20%EB%B6%84%EC%84%9D%20%E2%91%A1%20%EB%8D%B0%EC%9D%B4%ED%84%B0%20%EC%8B%9C%EA%B0%81%ED%99%94.pdf)"
      ]
    },
    {
      "cell_type": "markdown",
      "metadata": {
        "id": "YXQ6ehiZl9I3",
        "colab_type": "text"
      },
      "source": [
        "**리뷰 정보 클래스 작성하기**"
      ]
    },
    {
      "cell_type": "code",
      "metadata": {
        "id": "23lTrMe9l9t3",
        "colab_type": "code",
        "colab": {}
      },
      "source": [
        "import urllib.request\n",
        "from bs4 import BeautifulSoup\n",
        "\n",
        "class Review:\n",
        "  def __init__(self, comment, date, star, good, bad):\n",
        "    self.comment = comment\n",
        "    self.date = date\n",
        "    self.star = star\n",
        "    self.good = good\n",
        "    self.bad = bad\n",
        "\n",
        "  def show(self):\n",
        "    print(\"내용: \" + self.comment +\n",
        "          \"\\n날짜: \" + self.date +\n",
        "          \"\\n별점: \" + self.star +\n",
        "          \"\\n좋아요: \" + self.good +\n",
        "          \"\\n싫어요: \" + self.bad)"
      ],
      "execution_count": 0,
      "outputs": []
    },
    {
      "cell_type": "markdown",
      "metadata": {
        "id": "dyC0GtpKl_Z6",
        "colab_type": "text"
      },
      "source": [
        "**리뷰 정보 크롤링 함수**"
      ]
    },
    {
      "cell_type": "code",
      "metadata": {
        "id": "CBdSNYqnl_f4",
        "colab_type": "code",
        "colab": {}
      },
      "source": [
        "def crawl(url):\n",
        "  soup = BeautifulSoup(urllib.request.urlopen(url).read(), \"html.parser\")\n",
        "  review_list = []\n",
        "  title = soup.find('h3', class_='h_movie').find('a').text\n",
        "  div = soup.find(\"div\", class_=\"score_result\")\n",
        "  data_list = div.select(\"ul > li\")\n",
        "  \n",
        "  for review in data_list:\n",
        "    star = review.find(\"div\", class_=\"star_score\").text.strip()\n",
        "    reply = review.find(\"div\", class_=\"score_reple\")\n",
        "    comment = reply.find(\"p\").text.strip()\n",
        "    date = reply.select(\"dt > em\")[1].text.strip()\n",
        "    button = review.find(\"div\", class_=\"btn_area\")\n",
        "    sympathy = button.select(\"strong\")\n",
        "    good = sympathy[0].text\n",
        "    bad = sympathy[1].text\n",
        "    review_list.append(Review(comment, date, star, good, bad))\n",
        "\n",
        "  return title, review_list"
      ],
      "execution_count": 0,
      "outputs": []
    },
    {
      "cell_type": "markdown",
      "metadata": {
        "id": "2GiEnGholmFR",
        "colab_type": "text"
      },
      "source": [
        "**데이터 프레임화**"
      ]
    },
    {
      "cell_type": "code",
      "metadata": {
        "id": "HEFhfyCKljhP",
        "colab_type": "code",
        "colab": {}
      },
      "source": [
        "import pandas as pd\n",
        "\n",
        "def get_summary(review_list):\n",
        "  star_list = []\n",
        "  good_list = []\n",
        "  bad_list = []\n",
        "  \n",
        "  for review in review_list:\n",
        "    star_list.append(int(review.star))\n",
        "    good_list.append(int(review.good))\n",
        "    bad_list.append(int(review.bad))\n",
        "    \n",
        "  star_series = pd.Series(star_list)\n",
        "  good_series = pd.Series(good_list)\n",
        "  bad_series = pd.Series(bad_list)\n",
        "  \n",
        "  summary = pd.DataFrame({\n",
        "      'Star': star_series,\n",
        "      'Good': good_series,\n",
        "      'Bad': bad_series,\n",
        "      'Score': good_series / (good_series + bad_series)\n",
        "  })\n",
        "  \n",
        "  return summary"
      ],
      "execution_count": 0,
      "outputs": []
    },
    {
      "cell_type": "markdown",
      "metadata": {
        "id": "0fXcSDgWmJxv",
        "colab_type": "text"
      },
      "source": [
        "**다수의 영화 데이터 시각화 ①**"
      ]
    },
    {
      "cell_type": "code",
      "metadata": {
        "id": "-oacbjGRlz2B",
        "colab_type": "code",
        "outputId": "a1d42691-0082-4c35-c658-dcb0cf3e6957",
        "colab": {
          "base_uri": "https://localhost:8080/",
          "height": 671
        }
      },
      "source": [
        "movie_code_list = [136900, 167657, 174321, 184859, 167391]\n",
        "review_lists = []\n",
        "\n",
        "for i in movie_code_list:\n",
        "  title, review_list = crawl(\"https://movie.naver.com/movie/bi/mi/basic.nhn?code=\" + str(i))\n",
        "  summary = get_summary(review_list)\n",
        "  print(\"[ %s ]\" % (title))\n",
        "  print(summary)\n",
        "  review_lists.append((title, review_list))"
      ],
      "execution_count": 0,
      "outputs": [
        {
          "output_type": "stream",
          "text": [
            "[ 어벤져스: 엔드게임 ]\n",
            "   Star   Good  Bad     Score\n",
            "0    10  22861  645  0.972560\n",
            "1    10  15088  427  0.972478\n",
            "2    10  14681  455  0.969939\n",
            "3    10  12667  525  0.960203\n",
            "4    10  11403  412  0.965129\n",
            "[ 명탐정 피카츄 ]\n",
            "   Star  Good  Bad     Score\n",
            "0    10  1901  104  0.948130\n",
            "1    10   958   84  0.919386\n",
            "2    10   812   71  0.919592\n",
            "3     8   932  283  0.767078\n",
            "4     8   600   39  0.938967\n",
            "[ 고양이 여행 리포트 ]\n",
            "   Star  Good  Bad     Score\n",
            "0    10    64    5  0.927536\n",
            "1    10    38    3  0.926829\n",
            "2     6    43   19  0.693548\n",
            "3    10    25    2  0.925926\n",
            "4    10    27    4  0.870968\n",
            "[ 물의 기억 ]\n",
            "   Star  Good  Bad     Score\n",
            "0    10    28   10  0.736842\n",
            "1    10    26   10  0.722222\n",
            "2    10    23    9  0.718750\n",
            "3    10    14    2  0.875000\n",
            "4    10    18    6  0.750000\n",
            "[ 더 캡틴 ]\n",
            "   Star  Good  Bad     Score\n",
            "0     9    76   11  0.873563\n",
            "1    10    40    4  0.909091\n",
            "2    10    40    7  0.851064\n",
            "3     8    33    5  0.868421\n",
            "4     8    24    0  1.000000\n"
          ],
          "name": "stdout"
        }
      ]
    },
    {
      "cell_type": "markdown",
      "metadata": {
        "id": "kfdLRpDMmHNy",
        "colab_type": "text"
      },
      "source": [
        "**다수의 영화 데이터 시각화 ②**"
      ]
    },
    {
      "cell_type": "code",
      "metadata": {
        "id": "DjTLpd62pHTr",
        "colab_type": "code",
        "colab": {}
      },
      "source": [
        "!apt-get update -qq\n",
        "!apt-get install fonts-nanum* -qq"
      ],
      "execution_count": 0,
      "outputs": []
    },
    {
      "cell_type": "code",
      "metadata": {
        "id": "nOacl1lyl53x",
        "colab_type": "code",
        "outputId": "e5dee9f4-ca26-429f-b38d-e8db032f9465",
        "colab": {
          "base_uri": "https://localhost:8080/",
          "height": 310
        }
      },
      "source": [
        "import matplotlib\n",
        "import matplotlib.pyplot as plt\n",
        "import matplotlib.font_manager as fm\n",
        "\n",
        "font_path = '/usr/share/fonts/truetype/nanum/NanumBarunGothic.ttf'\n",
        "fontprop = fm.FontProperties(fname=font_path, size=18)\n",
        "\n",
        "def movie_compare(review_lists):\n",
        "  count = 1\n",
        "  x = []\n",
        "  y = []\n",
        "  for movie, review_list in review_lists:\n",
        "    x.append(count)\n",
        "    summary = get_summary(review_list)\n",
        "    summary = summary[summary['Score'] > 0.8]\n",
        "    y.append(summary['Star'].mean())\n",
        "    count += 1\n",
        "  plt.bar(x, y)\n",
        "  plt.title('영화 별점 비교', fontproperties=fontprop)\n",
        "  plt.xlabel('영화 번호', fontproperties=fontprop)\n",
        "  plt.ylabel('신뢰성 별점 평균', fontproperties=fontprop)\n",
        "  plt.show()\n",
        "  \n",
        "movie_compare(review_lists)"
      ],
      "execution_count": 0,
      "outputs": [
        {
          "output_type": "display_data",
          "data": {
            "image/png": "[encoded data removed]",
            "text/plain": [
              "<Figure size 432x288 with 1 Axes>"
            ]
          },
          "metadata": {
            "tags": []
          }
        }
      ]
    }
  ]
}